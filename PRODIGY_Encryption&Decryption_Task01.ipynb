{
  "nbformat": 4,
  "nbformat_minor": 0,
  "metadata": {
    "colab": {
      "provenance": []
    },
    "kernelspec": {
      "name": "python3",
      "display_name": "Python 3"
    },
    "language_info": {
      "name": "python"
    }
  },
  "cells": [
    {
      "cell_type": "markdown",
      "source": [
        "#**Encryption & Decryption Using Caesar Cipher**"
      ],
      "metadata": {
        "id": "h7GwEVILfjeg"
      }
    },
    {
      "cell_type": "markdown",
      "source": [
        "##Import necessary libraries"
      ],
      "metadata": {
        "id": "1xCPmWdMCozB"
      }
    },
    {
      "cell_type": "code",
      "source": [
        "# Import necessary libraries\n",
        "# (No external libraries are needed for this simple implementation, but add here if required)"
      ],
      "metadata": {
        "id": "MTin6p1WCpdR"
      },
      "execution_count": 2,
      "outputs": []
    },
    {
      "cell_type": "markdown",
      "source": [
        "This cell is reserved for importing necessary libraries. Currently, no additional libraries are needed for this Caesar cipher implementation, but this is where we would add any imports if necessary in future versions."
      ],
      "metadata": {
        "id": "0Lk3VFiBCpmu"
      }
    },
    {
      "cell_type": "markdown",
      "source": [
        "##Define the CaesarCipher Class"
      ],
      "metadata": {
        "id": "5n7w6GFIDAai"
      }
    },
    {
      "cell_type": "code",
      "source": [
        "class CaesarCipher:\n",
        "    def __init__(self, shift: int):\n",
        "        if not isinstance(shift, int):\n",
        "            raise ValueError(\"Shift value must be an integer.\")\n",
        "        self.shift = shift % 26  # Ensure shift stays within 0-25\n",
        "\n",
        "    def encrypt(self, text: str) -> str:\n",
        "        if not isinstance(text, str):\n",
        "            raise ValueError(\"Text to encrypt must be a string.\")\n",
        "        return self._caesar_cipher(text, self.shift)\n",
        "\n",
        "    def decrypt(self, text: str) -> str:\n",
        "        if not isinstance(text, str):\n",
        "            raise ValueError(\"Text to decrypt must be a string.\")\n",
        "        return self._caesar_cipher(text, -self.shift)\n",
        "\n",
        "    def _caesar_cipher(self, text: str, shift: int) -> str:\n",
        "        encrypted_text = []\n",
        "        for char in text:\n",
        "            if char.isalpha():\n",
        "                shift_base = 65 if char.isupper() else 97\n",
        "                shifted_char = chr((ord(char) - shift_base + shift) % 26 + shift_base)\n",
        "                encrypted_text.append(shifted_char)\n",
        "            else:\n",
        "                encrypted_text.append(char)  # Non-alphabetic characters remain unchanged\n",
        "        return ''.join(encrypted_text)\n"
      ],
      "metadata": {
        "id": "aLhiYe7kfqOw"
      },
      "execution_count": 3,
      "outputs": []
    },
    {
      "cell_type": "markdown",
      "source": [
        "This cell contains the CaesarCipher class, which provides the core functionality for encryption and decryption. The class handles input validation, supports both uppercase and lowercase characters, and keeps non-alphabetic characters unchanged. It also ensures that the shift value remains within a valid range (0-25)."
      ],
      "metadata": {
        "id": "ou8XGk6o5HF2"
      }
    },
    {
      "cell_type": "markdown",
      "source": [
        "##Helper Function for Safe Input Handling"
      ],
      "metadata": {
        "id": "8pL1Zx-mD7Tx"
      }
    },
    {
      "cell_type": "code",
      "source": [
        "def get_input(prompt: str) -> str:\n",
        "    try:\n",
        "        return input(prompt)\n",
        "    except KeyboardInterrupt:\n",
        "        raise Exception(\"Input interrupted.\")\n",
        "    except EOFError:\n",
        "        raise Exception(\"Input failed, unexpected EOF.\")\n",
        "    except Exception as e:\n",
        "        raise Exception(f\"Unexpected input error: {e}\")\n",
        ""
      ],
      "metadata": {
        "id": "LKyQWVMuD738"
      },
      "execution_count": 4,
      "outputs": []
    },
    {
      "cell_type": "markdown",
      "source": [
        "This cell defines a helper function to manage user input safely, handling cases where input could be interrupted or fail unexpectedly. It is designed to ensure that user prompts work smoothly and avoid common input-related errors."
      ],
      "metadata": {
        "id": "EZZAjxDGD8HW"
      }
    },
    {
      "cell_type": "markdown",
      "source": [
        "##Main Program Logic"
      ],
      "metadata": {
        "id": "VzPBVztjEXWM"
      }
    },
    {
      "cell_type": "code",
      "source": [
        "def run_caesar_cipher():\n",
        "    try:\n",
        "        while True:\n",
        "            action = get_input(\"Would you like to 'encrypt' or 'decrypt'? \").lower()\n",
        "            if action not in ['encrypt', 'decrypt']:\n",
        "                raise ValueError(\"Invalid action. Please choose 'encrypt' or 'decrypt'.\")\n",
        "\n",
        "            shift_input = get_input(\"Enter the shift value (integer): \")\n",
        "            try:\n",
        "                shift_value = int(shift_input)\n",
        "            except ValueError:\n",
        "                raise ValueError(\"Shift value must be a valid integer.\")\n",
        "\n",
        "            text = get_input(\"Enter the text: \")\n",
        "\n",
        "            caesar_cipher = CaesarCipher(shift_value)\n",
        "            if action == 'encrypt':\n",
        "                result = caesar_cipher.encrypt(text)\n",
        "                print(f\"Encrypted text: {result}\")\n",
        "            elif action == 'decrypt':\n",
        "                result = caesar_cipher.decrypt(text)\n",
        "                print(f\"Decrypted text: {result}\")\n",
        "\n",
        "            # Ask if the user wants to run again\n",
        "            repeat = get_input(\"Would you like to run the program again? (yes/no): \").lower()\n",
        "            if repeat != 'yes':\n",
        "                print(\"Exiting the program.\")\n",
        "                break\n",
        "\n",
        "    except Exception as e:\n",
        "        print(f\"Error: {e}\")\n",
        "\n",
        "# To start the program, call the function\n",
        "run_caesar_cipher()\n"
      ],
      "metadata": {
        "id": "KQcuGeZXEXwN"
      },
      "execution_count": null,
      "outputs": []
    },
    {
      "cell_type": "markdown",
      "source": [
        "This cell contains the main execution logic, prompting the user to choose between encryption and decryption, entering the shift value, and providing the text. The CaesarCipher class is then used to perform the required operation. Any errors during input or execution will be handled gracefully, and informative error messages will be displayed."
      ],
      "metadata": {
        "id": "--QVmi1_EYD9"
      }
    },
    {
      "cell_type": "markdown",
      "source": [
        "##Conclusion and Further Steps"
      ],
      "metadata": {
        "id": "X6fUH3urEw0T"
      }
    },
    {
      "cell_type": "code",
      "source": [
        "# Conclusion: You can now run the cells above to perform encryption or decryption.\n",
        "# Future steps may include adding support for more complex cipher techniques, file encryption, or batch processing."
      ],
      "metadata": {
        "id": "ZLFtu9V_ExXW"
      },
      "execution_count": null,
      "outputs": []
    },
    {
      "cell_type": "markdown",
      "source": [
        "This cell concludes the notebook. It explains that the user can now run the previous cells to test the Caesar cipher and suggests possible future enhancements like adding support for more complex ciphers or file encryption."
      ],
      "metadata": {
        "id": "SWBEU9vyExf5"
      }
    }
  ]
}