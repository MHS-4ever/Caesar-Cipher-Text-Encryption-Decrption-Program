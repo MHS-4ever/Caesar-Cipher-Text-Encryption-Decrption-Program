{
  "cells": [
    {
      "cell_type": "markdown",
      "metadata": {
        "id": "h7GwEVILfjeg"
      },
      "source": [
        "#**Encryption & Decryption Using Caesar Cipher**"
      ]
    },
    {
      "cell_type": "markdown",
      "metadata": {
        "id": "1xCPmWdMCozB"
      },
      "source": [
        "##Importing Libraries"
      ]
    },
    {
      "cell_type": "code",
      "execution_count": 1,
      "metadata": {
        "id": "MTin6p1WCpdR"
      },
      "outputs": [],
      "source": [
        "import tkinter as tk\n",
        "from tkinter import messagebox\n"
      ]
    },
    {
      "cell_type": "markdown",
      "metadata": {
        "id": "0Lk3VFiBCpmu"
      },
      "source": [
        "This cell imports the necessary libraries for the application. **tkinter** is used for creating the graphical user interface (GUI), and **messagebox** is used to show error messages."
      ]
    },
    {
      "cell_type": "markdown",
      "metadata": {
        "id": "5n7w6GFIDAai"
      },
      "source": [
        "##CaesarCipher Class Definition"
      ]
    },
    {
      "cell_type": "code",
      "execution_count": 2,
      "metadata": {
        "id": "aLhiYe7kfqOw"
      },
      "outputs": [],
      "source": [
        "class CaesarCipher:\n",
        "    def __init__(self, shift: int):\n",
        "        if not isinstance(shift, int):\n",
        "            raise ValueError(\"Shift value must be an integer.\")\n",
        "        self.shift = shift % 26  # Ensure shift stays within 0-25\n",
        "\n",
        "    def encrypt(self, text: str) -> str:\n",
        "        if not isinstance(text, str):\n",
        "            raise ValueError(\"Text to encrypt must be a string.\")\n",
        "        return self._caesar_cipher(text, self.shift)\n",
        "\n",
        "    def decrypt(self, text: str) -> str:\n",
        "        if not isinstance(text, str):\n",
        "            raise ValueError(\"Text to decrypt must be a string.\")\n",
        "        return self._caesar_cipher(text, -self.shift)\n",
        "\n",
        "    def _caesar_cipher(self, text: str, shift: int) -> str:\n",
        "        encrypted_text = []\n",
        "        for char in text:\n",
        "            if char.isalpha():\n",
        "                shift_base = 65 if char.isupper() else 97\n",
        "                shifted_char = chr((ord(char) - shift_base + shift) % 26 + shift_base)\n",
        "                encrypted_text.append(shifted_char)\n",
        "            else:\n",
        "                encrypted_text.append(char)  # Non-alphabetic characters remain unchanged\n",
        "        return ''.join(encrypted_text)\n"
      ]
    },
    {
      "cell_type": "markdown",
      "metadata": {
        "id": "ou8XGk6o5HF2"
      },
      "source": [
        "This cell defines the **CaesarCipher** class, which handles the encryption and decryption using the Caesar cipher algorithm. It includes:\n",
        "\n",
        "*   **__init__:** Initializes the shift value and ensures it stays within the range of 0-25.\n",
        "*   **encrypt:** Encrypts the provided text using the shift value.\n",
        "*   **decrypt:** Decrypts the provided text using the negative shift value.\n",
        "*   **_caesar_cipher:** A helper method that performs the actual encryption or decryption based on the shift value."
      ]
    },
    {
      "cell_type": "markdown",
      "metadata": {
        "id": "8pL1Zx-mD7Tx"
      },
      "source": [
        "##CaesarCipherApp Class Definition"
      ]
    },
    {
      "cell_type": "code",
      "execution_count": 3,
      "metadata": {
        "id": "LKyQWVMuD738"
      },
      "outputs": [],
      "source": [
        "class CaesarCipherApp:\n",
        "    def __init__(self, root):\n",
        "        self.root = root\n",
        "        self.root.title(\"Caesar Cipher Encryptor/Decryptor\")\n",
        "\n",
        "        # Labels and Entry fields\n",
        "        self.label_text = tk.Label(root, text=\"Enter text:\")\n",
        "        self.label_text.pack()\n",
        "\n",
        "        self.entry_text = tk.Entry(root, width=50)\n",
        "        self.entry_text.pack(padx=50)\n",
        "\n",
        "        self.label_shift = tk.Label(root, text=\"Enter shift value:\")\n",
        "        self.label_shift.pack()\n",
        "\n",
        "        self.entry_shift = tk.Entry(root, width=10)\n",
        "        self.entry_shift.pack()\n",
        "\n",
        "        # Frame for buttons to place them side by side\n",
        "        self.button_frame = tk.Frame(root)\n",
        "        self.button_frame.pack(pady=10)\n",
        "\n",
        "        # Encrypt and Decrypt buttons (side by side)\n",
        "        self.button_encrypt = tk.Button(self.button_frame, text=\"Encrypt\", command=self.encrypt_text)\n",
        "        self.button_encrypt.pack(side=tk.LEFT, padx=10)\n",
        "\n",
        "        self.button_decrypt = tk.Button(self.button_frame, text=\"Decrypt\", command=self.decrypt_text)\n",
        "        self.button_decrypt.pack(side=tk.LEFT, padx=10)\n",
        "\n",
        "        # Result label\n",
        "        self.result_label = tk.Label(root, text=\"\")\n",
        "        self.result_label.pack(pady=10)\n",
        "\n",
        "    def encrypt_text(self):\n",
        "        try:\n",
        "            shift_value = int(self.entry_shift.get())\n",
        "            text = self.entry_text.get()\n",
        "\n",
        "            caesar_cipher = CaesarCipher(shift_value)\n",
        "            encrypted_text = caesar_cipher.encrypt(text)\n",
        "\n",
        "            self.result_label.config(text=f\"Encrypted text: {encrypted_text}\")\n",
        "        except ValueError:\n",
        "            messagebox.showerror(\"Error\", \"Please enter a valid shift value.\")\n",
        "        except Exception as e:\n",
        "            messagebox.showerror(\"Error\", str(e))\n",
        "\n",
        "    def decrypt_text(self):\n",
        "        try:\n",
        "            shift_value = int(self.entry_shift.get())\n",
        "            text = self.entry_text.get()\n",
        "\n",
        "            caesar_cipher = CaesarCipher(shift_value)\n",
        "            decrypted_text = caesar_cipher.decrypt(text)\n",
        "\n",
        "            self.result_label.config(text=f\"Decrypted text: {decrypted_text}\")\n",
        "        except ValueError:\n",
        "            messagebox.showerror(\"Error\", \"Please enter a valid shift value.\")\n",
        "        except Exception as e:\n",
        "            messagebox.showerror(\"Error\", str(e))\n"
      ]
    },
    {
      "cell_type": "markdown",
      "metadata": {
        "id": "EZZAjxDGD8HW"
      },
      "source": [
        "This cell defines the CaesarCipherApp class, which creates the GUI for the application. It includes:\n",
        "\n",
        "\n",
        "*   **__init__:** Sets up the GUI elements such as labels, entry fields, and buttons. The \"Encrypt\" and \"Decrypt\" buttons are placed side by side using a frame.\n",
        "*   **encrypt_text:** Handles the encryption process when the \"Encrypt\" button is clicked, updates the result label, and shows error messages if needed.\n",
        "*   **decrypt_text:** Handles the decryption process when the \"Decrypt\" button is clicked, updates the result label, and shows error messages if needed."
      ]
    },
    {
      "cell_type": "markdown",
      "metadata": {
        "id": "VzPBVztjEXWM"
      },
      "source": [
        "##Running the Application"
      ]
    },
    {
      "cell_type": "code",
      "execution_count": 4,
      "metadata": {
        "id": "KQcuGeZXEXwN"
      },
      "outputs": [],
      "source": [
        "# Create the main window and run the app\n",
        "if __name__ == \"__main__\":\n",
        "    root = tk.Tk()\n",
        "    app = CaesarCipherApp(root)\n",
        "    root.mainloop()\n"
      ]
    },
    {
      "cell_type": "markdown",
      "metadata": {
        "id": "--QVmi1_EYD9"
      },
      "source": [
        "TThis cell initializes the main application window and starts the Tkinter event loop. It creates an instance of **CaesarCipherApp** and calls **root.mainloop()** to run the application and listen for user interactions."
      ]
    },
    {
      "cell_type": "markdown",
      "metadata": {
        "id": "X6fUH3urEw0T"
      },
      "source": [
        "##Conclusion and Further Steps"
      ]
    },
    {
      "cell_type": "code",
      "execution_count": null,
      "metadata": {
        "id": "ZLFtu9V_ExXW"
      },
      "outputs": [],
      "source": [
        "# Conclusion: You can now run the cells above to perform encryption or decryption.\n",
        "# Future steps may include adding support for more complex cipher techniques, file encryption, or batch processing."
      ]
    },
    {
      "cell_type": "markdown",
      "metadata": {
        "id": "SWBEU9vyExf5"
      },
      "source": [
        "This cell concludes the notebook. It explains that the user can now run the previous cells to test the Caesar cipher and suggests possible future enhancements like adding support for more complex ciphers or file encryption."
      ]
    }
  ],
  "metadata": {
    "colab": {
      "provenance": []
    },
    "kernelspec": {
      "display_name": "Python 3",
      "name": "python3"
    },
    "language_info": {
      "name": "python"
    }
  },
  "nbformat": 4,
  "nbformat_minor": 0
}
